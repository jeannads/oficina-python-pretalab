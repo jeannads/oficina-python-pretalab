{
  "nbformat": 4,
  "nbformat_minor": 0,
  "metadata": {
    "colab": {
      "provenance": [],
      "include_colab_link": true
    },
    "kernelspec": {
      "name": "python3",
      "display_name": "Python 3"
    },
    "language_info": {
      "name": "python"
    }
  },
  "cells": [
    {
      "cell_type": "markdown",
      "metadata": {
        "id": "view-in-github",
        "colab_type": "text"
      },
      "source": [
        "<a href=\"https://colab.research.google.com/github/jeannads/oficina-python-pretalab/blob/main/exercicio_final.ipynb\" target=\"_parent\"><img src=\"https://colab.research.google.com/assets/colab-badge.svg\" alt=\"Open In Colab\"/></a>"
      ]
    },
    {
      "cell_type": "markdown",
      "source": [
        "# Contagem de Medalhas\n",
        "\n",
        "Crie um programa que receba o número de medalhas de ouro, prata e bronze de um país nas Olimpíadas e calcule o total de medalhas.\n",
        "Quando escrever 'sair', o programa deverá encerrar e mostrar na tela o ranking de medalhas no formato:"
      ],
      "metadata": {
        "id": "RQN1e5FZY6SZ"
      }
    },
    {
      "cell_type": "code",
      "source": [
        "#Ranking de medalhas:\n",
        "#Brasil: 7 medalhas\n",
        "#França: 6 medalhas\n",
        "#Argentina: 3 medalhas"
      ],
      "metadata": {
        "id": "gCq_KLHzZSzb"
      },
      "execution_count": null,
      "outputs": []
    },
    {
      "cell_type": "code",
      "execution_count": 6,
      "metadata": {
        "id": "AJJhjxiPTd5s",
        "colab": {
          "base_uri": "https://localhost:8080/"
        },
        "outputId": "9e40470a-30aa-4318-8f7f-1b032d19c638"
      },
      "outputs": [
        {
          "output_type": "stream",
          "name": "stdout",
          "text": [
            "Digite o nome do país: Brasil\n",
            "Digite o número de medalhas de ouro: 9\n",
            "Digite o número de medalhas de prata: 8\n",
            "Digite o número de medalhas de bronze: 7\n",
            "Digite o nome do país: China\n",
            "Digite o número de medalhas de ouro: 6\n",
            "Digite o número de medalhas de prata: 5\n",
            "Digite o número de medalhas de bronze: 4\n",
            "Digite o nome do país: sair\n",
            "\n",
            "Ranking de medalhas: \n",
            "Brasil: 24 medalhas\n",
            "China: 15 medalhas\n"
          ]
        }
      ],
      "source": [
        "# Resposta aqui\n",
        "\n",
        "#enquanto a entrada for diferente de sair, ler país e medalhas e armazenar valores num dicionário\n",
        "#encerrar\n",
        "#ranquear países pela quantidade de medalhas\n",
        "#imprimir países ranqueados\n",
        "\n",
        "ranking = {}\n",
        "\n",
        "while True:\n",
        "  nome_pais = input('Digite o nome do país: ')\n",
        "\n",
        "  if nome_pais.lower() == 'sair':\n",
        "    print()\n",
        "    break\n",
        "\n",
        "  medalhas_ouro = int(input('Digite o número de medalhas de ouro: '))\n",
        "  medalhas_prata = int(input('Digite o número de medalhas de prata: '))\n",
        "  medalhas_bronze = int(input('Digite o número de medalhas de bronze: '))\n",
        "\n",
        "  medalhas = medalhas_ouro + medalhas_prata + medalhas_bronze\n",
        "\n",
        "  ranking[nome_pais] = medalhas\n",
        "\n",
        "ordenar_ranking = sorted(ranking.items(), key=lambda item: item[1], reverse=True)\n",
        "\n",
        "print('Ranking de medalhas: ')\n",
        "for pais, medalhas in ordenar_ranking:\n",
        "    print(f'{pais}: {medalhas} medalhas')\n"
      ]
    },
    {
      "cell_type": "code",
      "source": [],
      "metadata": {
        "id": "H2KQukzd9ABb"
      },
      "execution_count": null,
      "outputs": []
    }
  ]
}